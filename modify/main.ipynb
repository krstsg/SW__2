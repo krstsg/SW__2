{
 "cells": [
  {
   "cell_type": "code",
   "execution_count": 29,
   "metadata": {},
   "outputs": [],
   "source": [
    "from xml.dom import minidom"
   ]
  },
  {
   "cell_type": "code",
   "execution_count": 30,
   "metadata": {},
   "outputs": [],
   "source": [
    "def string_to_file(string: str, path_name: str, encoding: str = 'UTF-8') -> None:\n",
    "    with open(path_name, 'w', encoding=encoding) as out:\n",
    "        out.write(string)"
   ]
  },
  {
   "cell_type": "code",
   "execution_count": 31,
   "metadata": {},
   "outputs": [],
   "source": [
    "path_xml    = 'res.xml'"
   ]
  },
  {
   "cell_type": "code",
   "execution_count": 32,
   "metadata": {},
   "outputs": [],
   "source": [
    "dom = minidom.parse(path_xml)"
   ]
  },
  {
   "cell_type": "code",
   "execution_count": 33,
   "metadata": {},
   "outputs": [
    {
     "data": {
      "text/plain": [
       "25"
      ]
     },
     "execution_count": 33,
     "metadata": {},
     "output_type": "execute_result"
    }
   ],
   "source": [
    "# Selecting all products\n",
    "products = dom.getElementsByTagName(\"product\")\n",
    "len(products)"
   ]
  },
  {
   "cell_type": "code",
   "execution_count": 34,
   "metadata": {},
   "outputs": [
    {
     "data": {
      "text/plain": [
       "<DOM Element: discount at 0x173b43b7430>"
      ]
     },
     "execution_count": 34,
     "metadata": {},
     "output_type": "execute_result"
    }
   ],
   "source": [
    "# Removing discount from the first element\n",
    "products[0].removeChild(\n",
    "    products[0].getElementsByTagName(\"discount\")[0]\n",
    ")"
   ]
  },
  {
   "cell_type": "code",
   "execution_count": 35,
   "metadata": {},
   "outputs": [
    {
     "data": {
      "text/plain": [
       "<DOM Element: description at 0x173b1f9b8b0>"
      ]
     },
     "execution_count": 35,
     "metadata": {},
     "output_type": "execute_result"
    }
   ],
   "source": [
    "# Creating description for the second element (before price_old)\n",
    "element = dom.createElement(\"description\")\n",
    "element.appendChild(dom.createTextNode(\"An interesting item\"))\n",
    "cd = products[1].getElementsByTagName(\"price_old\")[0]\n",
    "cd.parentNode.insertBefore(element, cd)"
   ]
  },
  {
   "cell_type": "code",
   "execution_count": 36,
   "metadata": {},
   "outputs": [],
   "source": [
    "# Creating \"color\" attribute for the forth element\n",
    "attribute = dom.createAttribute(\"color\")\n",
    "products[3].setAttributeNode(attribute)\n",
    "products[3].setAttribute(\"color\", \"red\")"
   ]
  },
  {
   "cell_type": "code",
   "execution_count": 37,
   "metadata": {},
   "outputs": [
    {
     "data": {
      "text/plain": [
       "<DOM Element: product at 0x173b43d9ca0>"
      ]
     },
     "execution_count": 37,
     "metadata": {},
     "output_type": "execute_result"
    }
   ],
   "source": [
    "# Creating a complex element (as the fifth product)\n",
    "el_name = dom.createElement(\"name\")\n",
    "el_name.appendChild(dom.createTextNode(\"Product_X\"))\n",
    "el_price_new = dom.createElement(\"price_new\")\n",
    "el_price_new.appendChild(dom.createTextNode(\"500.0\"))\n",
    "\n",
    "# \"currency\" attribute for \"regular_price\" element\n",
    "reg_price_currency = dom.createAttribute(\"currency\")\n",
    "el_price_new.setAttributeNode(reg_price_currency)\n",
    "el_price_new.setAttribute(\"currency\", \"$\")\n",
    "\n",
    "# Main element\n",
    "el_big = dom.createElement(\"product\")\n",
    "el_big.appendChild(el_name)\n",
    "el_big.appendChild(el_price_new)\n",
    "\n",
    "# \"made_in\" attribute for the main element\n",
    "elem_made_in = dom.createAttribute(\"rating\")\n",
    "el_big.setAttributeNode(elem_made_in)\n",
    "el_big.setAttribute(\"rating\", \"4.8\")\n",
    "\n",
    "cd = products[3]\n",
    "cd.parentNode.appendChild(el_big)"
   ]
  },
  {
   "cell_type": "code",
   "execution_count": 38,
   "metadata": {},
   "outputs": [],
   "source": [
    "string_to_file(\n",
    "    \"\\n\".join([ll.rstrip() for ll in dom.toprettyxml().splitlines() if ll.strip()]), \n",
    "    'res_new.xml'\n",
    ")"
   ]
  }
 ],
 "metadata": {
  "kernelspec": {
   "display_name": "Python 3",
   "language": "python",
   "name": "python3"
  },
  "language_info": {
   "codemirror_mode": {
    "name": "ipython",
    "version": 3
   },
   "file_extension": ".py",
   "mimetype": "text/x-python",
   "name": "python",
   "nbconvert_exporter": "python",
   "pygments_lexer": "ipython3",
   "version": "3.9.13"
  },
  "orig_nbformat": 4
 },
 "nbformat": 4,
 "nbformat_minor": 2
}
